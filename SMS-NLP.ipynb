{
 "cells": [
  {
   "cell_type": "code",
   "execution_count": 160,
   "id": "0c24dc0c",
   "metadata": {},
   "outputs": [],
   "source": [
    "#Importing libraries\n",
    "\n",
    "import pandas as pd\n",
    "from pandas import merge\n",
    "import numpy as np\n",
    "import seaborn as sns\n",
    "import matplotlib.pyplot as plt\n",
    "import sklearn as skl\n",
    "import nltk\n",
    "import csv\n",
    "import re\n",
    "from nltk.corpus import stopwords\n",
    "from nltk.stem import PorterStemmer\n",
    "from sklearn.feature_extraction.text import TfidfVectorizer\n",
    "\n",
    "#Preprocessing\n",
    "from sklearn.model_selection import train_test_split\n",
    "#keras\n",
    "from keras.layers import LSTM, Embedding, Dense, Dropout\n",
    "from keras.preprocessing.text import Tokenizer\n",
    "from keras.utils import pad_sequences\n",
    "from sklearn.utils import resample\n",
    "\n",
    "#Modelos\n",
    "from sklearn.ensemble import RandomForestClassifier\n",
    "from sklearn.svm import SVC\n",
    "from keras.models import Sequential\n",
    "\n",
    "#Metrics\n",
    "from sklearn.metrics import accuracy_score, precision_score, recall_score, f1_score, confusion_matrix, classification_report"
   ]
  },
  {
   "cell_type": "code",
   "execution_count": null,
   "id": "2b7fd959",
   "metadata": {},
   "outputs": [],
   "source": [
    "\"\"\"#Declaring filepath and name for the csv file\n",
    "filepath = 'smsdata/SMSSPamCollection.txt'\n",
    "csv_data = 'smsdata/smsdata.csv'\n",
    "\n",
    "#Turning the .txt file into a csv file\n",
    "with open(filepath, 'r') as file:\n",
    "    lines = file.readlines()\n",
    "\n",
    "data = []\n",
    "\n",
    "for line in lines:\n",
    "    line = line.strip()\n",
    "    parts = line.split('\\t')\n",
    "    label = parts[0]\n",
    "    message = parts[1]\n",
    "    data.append([label, message])\n",
    "\n",
    "with open(csv_data, 'w', newline='') as file:\n",
    "    writer = csv.writer(file)\n",
    "    writer.writerows(data)\n",
    "\"\"\""
   ]
  },
  {
   "cell_type": "markdown",
   "id": "f0afbdab",
   "metadata": {},
   "source": [
    "#### Arrumando o dataset com o header certo"
   ]
  },
  {
   "cell_type": "code",
   "execution_count": 2,
   "id": "063bb863",
   "metadata": {
    "scrolled": true
   },
   "outputs": [
    {
     "data": {
      "text/html": [
       "<div>\n",
       "<style scoped>\n",
       "    .dataframe tbody tr th:only-of-type {\n",
       "        vertical-align: middle;\n",
       "    }\n",
       "\n",
       "    .dataframe tbody tr th {\n",
       "        vertical-align: top;\n",
       "    }\n",
       "\n",
       "    .dataframe thead th {\n",
       "        text-align: right;\n",
       "    }\n",
       "</style>\n",
       "<table border=\"1\" class=\"dataframe\">\n",
       "  <thead>\n",
       "    <tr style=\"text-align: right;\">\n",
       "      <th></th>\n",
       "      <th>Label</th>\n",
       "      <th>Message</th>\n",
       "    </tr>\n",
       "  </thead>\n",
       "  <tbody>\n",
       "    <tr>\n",
       "      <th>0</th>\n",
       "      <td>ham</td>\n",
       "      <td>Go until jurong point, crazy.. Available only ...</td>\n",
       "    </tr>\n",
       "    <tr>\n",
       "      <th>1</th>\n",
       "      <td>ham</td>\n",
       "      <td>Ok lar... Joking wif u oni...</td>\n",
       "    </tr>\n",
       "    <tr>\n",
       "      <th>2</th>\n",
       "      <td>spam</td>\n",
       "      <td>Free entry in 2 a wkly comp to win FA Cup fina...</td>\n",
       "    </tr>\n",
       "    <tr>\n",
       "      <th>3</th>\n",
       "      <td>ham</td>\n",
       "      <td>U dun say so early hor... U c already then say...</td>\n",
       "    </tr>\n",
       "    <tr>\n",
       "      <th>4</th>\n",
       "      <td>ham</td>\n",
       "      <td>Nah I don't think he goes to usf, he lives aro...</td>\n",
       "    </tr>\n",
       "  </tbody>\n",
       "</table>\n",
       "</div>"
      ],
      "text/plain": [
       "  Label                                            Message\n",
       "0   ham  Go until jurong point, crazy.. Available only ...\n",
       "1   ham                      Ok lar... Joking wif u oni...\n",
       "2  spam  Free entry in 2 a wkly comp to win FA Cup fina...\n",
       "3   ham  U dun say so early hor... U c already then say...\n",
       "4   ham  Nah I don't think he goes to usf, he lives aro..."
      ]
     },
     "execution_count": 2,
     "metadata": {},
     "output_type": "execute_result"
    }
   ],
   "source": [
    "csv_data = 'smsdata/smsdata.csv'\n",
    "\n",
    "dtsms = pd.read_csv(csv_data, header=None, names=['Label', 'Message'], delimiter=',')\n",
    "\n",
    "dtsms.head()"
   ]
  },
  {
   "cell_type": "markdown",
   "id": "01164693",
   "metadata": {},
   "source": [
    "#### Tratando dados \n",
    "\n",
    "Tirei caracteres especiais, dropei dados duplicados, removi stopwords, coloquei tudo em lowercase e realizei stemming"
   ]
  },
  {
   "cell_type": "code",
   "execution_count": 3,
   "id": "82b4603e",
   "metadata": {},
   "outputs": [
    {
     "name": "stderr",
     "output_type": "stream",
     "text": [
      "[nltk_data] Downloading package stopwords to\n",
      "[nltk_data]     C:\\Users\\anagi\\AppData\\Roaming\\nltk_data...\n",
      "[nltk_data]   Package stopwords is already up-to-date!\n"
     ]
    }
   ],
   "source": [
    "#Removendo caracteres especiais\n",
    "dtsms['Message'] = dtsms['Message'].apply(lambda x: re.sub(r'\\W', ' ', x))\n",
    "\n",
    "#drop de dados duplicados\n",
    "dtsms.drop_duplicates(inplace=True)\n",
    "\n",
    "#to lowercase\n",
    "dtsms['Message'] = dtsms['Message'].str.lower()\n",
    "\n",
    "#nltk stopwords download\n",
    "nltk.download('stopwords')\n",
    "stop_words = set(stopwords.words('english'))\n",
    "#lambda para remover stopwords\n",
    "dtsms['Message'] = dtsms['Message'].apply(lambda x: ' '.join([word for word in x.split() if word not in stop_words]))\n",
    "\n",
    "#stemming\n",
    "stemmer = PorterStemmer()\n",
    "\n",
    "dtsms['Message'] = dtsms['Message'].apply(lambda x: ' '.join([stemmer.stem(word) for word in x.split()]))\n"
   ]
  },
  {
   "cell_type": "markdown",
   "id": "43e6244f",
   "metadata": {},
   "source": [
    "#### Vetorização com TfidfVectorizer - pegando palavras frequentes"
   ]
  },
  {
   "cell_type": "code",
   "execution_count": 15,
   "id": "26381b74",
   "metadata": {},
   "outputs": [],
   "source": [
    "tfidf = TfidfVectorizer()\n",
    "X = tfidf.fit_transform(dtsms['Message'])\n",
    "y = dtsms['Label']\n",
    "\n",
    "#Dividir dados em treino e teste 20%\n",
    "X_train, X_test, y_train, y_test = train_test_split(X, y, test_size = 0.2, random_state = 42)\n",
    "\n",
    "#Replacing values to binaries\n",
    "dtsms['Label'].replace({'ham':0, 'spam':1}, inplace = True)"
   ]
  },
  {
   "cell_type": "code",
   "execution_count": 16,
   "id": "9bf3128b",
   "metadata": {},
   "outputs": [
    {
     "data": {
      "text/html": [
       "<div>\n",
       "<style scoped>\n",
       "    .dataframe tbody tr th:only-of-type {\n",
       "        vertical-align: middle;\n",
       "    }\n",
       "\n",
       "    .dataframe tbody tr th {\n",
       "        vertical-align: top;\n",
       "    }\n",
       "\n",
       "    .dataframe thead th {\n",
       "        text-align: right;\n",
       "    }\n",
       "</style>\n",
       "<table border=\"1\" class=\"dataframe\">\n",
       "  <thead>\n",
       "    <tr style=\"text-align: right;\">\n",
       "      <th></th>\n",
       "      <th>Label</th>\n",
       "      <th>Message</th>\n",
       "    </tr>\n",
       "  </thead>\n",
       "  <tbody>\n",
       "    <tr>\n",
       "      <th>0</th>\n",
       "      <td>0</td>\n",
       "      <td>go jurong point crazi avail bugi n great world...</td>\n",
       "    </tr>\n",
       "    <tr>\n",
       "      <th>1</th>\n",
       "      <td>0</td>\n",
       "      <td>ok lar joke wif u oni</td>\n",
       "    </tr>\n",
       "    <tr>\n",
       "      <th>2</th>\n",
       "      <td>1</td>\n",
       "      <td>free entri 2 wkli comp win fa cup final tkt 21...</td>\n",
       "    </tr>\n",
       "    <tr>\n",
       "      <th>3</th>\n",
       "      <td>0</td>\n",
       "      <td>u dun say earli hor u c alreadi say</td>\n",
       "    </tr>\n",
       "    <tr>\n",
       "      <th>4</th>\n",
       "      <td>0</td>\n",
       "      <td>nah think goe usf live around though</td>\n",
       "    </tr>\n",
       "  </tbody>\n",
       "</table>\n",
       "</div>"
      ],
      "text/plain": [
       "   Label                                            Message\n",
       "0      0  go jurong point crazi avail bugi n great world...\n",
       "1      0                              ok lar joke wif u oni\n",
       "2      1  free entri 2 wkli comp win fa cup final tkt 21...\n",
       "3      0                u dun say earli hor u c alreadi say\n",
       "4      0               nah think goe usf live around though"
      ]
     },
     "execution_count": 16,
     "metadata": {},
     "output_type": "execute_result"
    }
   ],
   "source": [
    "dtsms.head()"
   ]
  },
  {
   "cell_type": "markdown",
   "id": "d13ce9c5",
   "metadata": {},
   "source": [
    "#### Treino do RandomForest e predição"
   ]
  },
  {
   "cell_type": "code",
   "execution_count": 18,
   "id": "8da8875a",
   "metadata": {},
   "outputs": [
    {
     "name": "stdout",
     "output_type": "stream",
     "text": [
      "Acuracia com RandomForest:97.38%\n",
      "Precisão com RandomForest:97.06%\n",
      "Recall Score com RandomForest:80.49%\n",
      "F1-Score com RandomForest:88.00%\n"
     ]
    }
   ],
   "source": [
    "#Random Forest\n",
    "rf = RandomForestClassifier()\n",
    "rf.fit(X_train, y_train)\n",
    "\n",
    "y_pred = rf.predict(X_test)\n",
    "\n",
    "accuracy  = accuracy_score(y_test, y_pred)\n",
    "\n",
    "prec = precision_score(y_test, y_pred, pos_label = 1)\n",
    "\n",
    "rec = recall_score(y_test, y_pred, pos_label = 1)\n",
    "\n",
    "f1 = f1_score(y_test, y_pred, pos_label = 1)\n",
    "\n",
    "print(\"Acuracia com RandomForest:{:.2f}%\".format(accuracy * 100))\n",
    "print(\"Precisão com RandomForest:{:.2f}%\".format(prec * 100))\n",
    "print(\"Recall Score com RandomForest:{:.2f}%\".format(rec * 100))\n",
    "print(\"F1-Score com RandomForest:{:.2f}%\".format(f1 * 100))"
   ]
  },
  {
   "cell_type": "markdown",
   "id": "ab61fde8",
   "metadata": {},
   "source": [
    "#### SVM - SVC"
   ]
  },
  {
   "cell_type": "code",
   "execution_count": 20,
   "id": "5dbaab3c",
   "metadata": {},
   "outputs": [
    {
     "name": "stdout",
     "output_type": "stream",
     "text": [
      "Acuracia com SVC:97.29%\n",
      "Precisão com SVC:98.97%\n",
      "Recall Score com SVC:78.05%\n",
      "F1-Score com SVC:87.27%\n"
     ]
    }
   ],
   "source": [
    "svc = SVC()\n",
    "\n",
    "svc.fit(X_train, y_train)\n",
    "previsao = svc.predict(X_test)\n",
    "\n",
    "precision = precision_score(y_test, previsao, pos_label=1)\n",
    "\n",
    "fscore = f1_score(y_test, previsao, pos_label = 1)\n",
    "\n",
    "recall = recall_score(y_test, previsao, pos_label = 1)\n",
    "\n",
    "acuracia = accuracy_score(y_test, previsao)\n",
    "\n",
    "print(\"Acuracia com SVC:{:.2f}%\".format(acuracia * 100))\n",
    "print(\"Precisão com SVC:{:.2f}%\".format(precision * 100))\n",
    "print(\"Recall Score com SVC:{:.2f}%\".format(recall * 100))\n",
    "print(\"F1-Score com SVC:{:.2f}%\".format(fscore * 100))"
   ]
  },
  {
   "cell_type": "markdown",
   "id": "f692c7a9",
   "metadata": {},
   "source": [
    "#### LSTM"
   ]
  },
  {
   "cell_type": "code",
   "execution_count": 161,
   "id": "0b6f370e",
   "metadata": {},
   "outputs": [],
   "source": [
    "max_len = 100\n",
    "max_words = 1000\n",
    "\n",
    "#Divisão em treino e teste\n",
    "X_treino, X_teste, y_treino, y_teste = train_test_split(dtsms['Message'], dtsms['Label'], test_size=0.2, random_state=42)\n",
    "\n",
    "train_df = pd.concat([X_treino, y_treino], axis=1)\n",
    "\n",
    "ham_df = train_df[train_df['Label'] == 0]\n",
    "spam_df = train_df[train_df['Label'] == 1]\n",
    "\n",
    "spam_upsampled = resample(spam_df, replace=True, n_samples=len(ham_df), random_state=42)\n",
    "\n",
    "# Combinar novamente as classes majoritária e minoritária\n",
    "balanced_train_df = pd.concat([ham_df, spam_upsampled])\n",
    "\n",
    "# Dividir novamente os dados de treinamento em X_train e y_train\n",
    "X_train_balanced = balanced_train_df['Message']\n",
    "y_train_balanced = balanced_train_df['Label']\n",
    "\n",
    "\n",
    "tokenizer = Tokenizer()\n",
    "tokenizer.fit_on_texts(X_train_balanced)\n",
    "\n",
    "X_train_sequences = tokenizer.texts_to_sequences(X_train_balanced)\n",
    "X_test_sequences = tokenizer.texts_to_sequences(X_teste)\n",
    "\n",
    "vocab_size = len(tokenizer.word_index) + 1\n",
    "max_length = max(len(sequence) for sequence in X_train_sequences)\n",
    "X_train_padded = pad_sequences(X_train_sequences, maxlen=max_length)\n",
    "X_test_padded = pad_sequences(X_test_sequences, maxlen=max_length)"
   ]
  },
  {
   "cell_type": "code",
   "execution_count": 162,
   "id": "d3beafa7",
   "metadata": {},
   "outputs": [
    {
     "name": "stdout",
     "output_type": "stream",
     "text": [
      "Model: \"sequential_10\"\n",
      "_________________________________________________________________\n",
      " Layer (type)                Output Shape              Param #   \n",
      "=================================================================\n",
      " embedding_9 (Embedding)     (None, 78, 100)           645500    \n",
      "                                                                 \n",
      " lstm_9 (LSTM)               (None, 100)               80400     \n",
      "                                                                 \n",
      " dense_9 (Dense)             (None, 1)                 101       \n",
      "                                                                 \n",
      "=================================================================\n",
      "Total params: 726,001\n",
      "Trainable params: 726,001\n",
      "Non-trainable params: 0\n",
      "_________________________________________________________________\n"
     ]
    }
   ],
   "source": [
    "#Building model\n",
    "model = Sequential()\n",
    "model.add(Embedding(vocab_size, 100, input_length=max_length))\n",
    "model.add(LSTM(100))\n",
    "model.add(Dense(1, activation='sigmoid'))\n",
    "\n",
    "model.compile(loss='binary_crossentropy', optimizer='adam', metrics=['accuracy'])\n",
    "model.summary()"
   ]
  },
  {
   "cell_type": "code",
   "execution_count": 163,
   "id": "5ac36218",
   "metadata": {},
   "outputs": [
    {
     "name": "stdout",
     "output_type": "stream",
     "text": [
      "Epoch 1/10\n",
      "113/113 [==============================] - 24s 154ms/step - loss: 0.2085 - accuracy: 0.9217 - val_loss: 0.0601 - val_accuracy: 0.9855\n",
      "Epoch 2/10\n",
      "113/113 [==============================] - 16s 140ms/step - loss: 0.0121 - accuracy: 0.9971 - val_loss: 0.0541 - val_accuracy: 0.9884\n",
      "Epoch 3/10\n",
      "113/113 [==============================] - 16s 143ms/step - loss: 0.0018 - accuracy: 0.9996 - val_loss: 0.0745 - val_accuracy: 0.9845\n",
      "Epoch 4/10\n",
      "113/113 [==============================] - 17s 151ms/step - loss: 6.2368e-04 - accuracy: 1.0000 - val_loss: 0.0688 - val_accuracy: 0.9884\n",
      "Epoch 5/10\n",
      "113/113 [==============================] - 16s 145ms/step - loss: 2.7351e-04 - accuracy: 1.0000 - val_loss: 0.0851 - val_accuracy: 0.9855\n",
      "Epoch 6/10\n",
      "113/113 [==============================] - 16s 143ms/step - loss: 1.3925e-04 - accuracy: 1.0000 - val_loss: 0.1004 - val_accuracy: 0.9835\n",
      "Epoch 7/10\n",
      "113/113 [==============================] - 17s 148ms/step - loss: 1.3116e-04 - accuracy: 1.0000 - val_loss: 0.0865 - val_accuracy: 0.9855\n",
      "Epoch 8/10\n",
      "113/113 [==============================] - 15s 131ms/step - loss: 7.8848e-05 - accuracy: 1.0000 - val_loss: 0.1023 - val_accuracy: 0.9845\n",
      "Epoch 9/10\n",
      "113/113 [==============================] - 15s 130ms/step - loss: 5.8183e-05 - accuracy: 1.0000 - val_loss: 0.1005 - val_accuracy: 0.9855\n",
      "Epoch 10/10\n",
      "113/113 [==============================] - 15s 129ms/step - loss: 4.6225e-05 - accuracy: 1.0000 - val_loss: 0.1116 - val_accuracy: 0.9845\n"
     ]
    },
    {
     "data": {
      "text/plain": [
       "<keras.callbacks.History at 0x25b582fd330>"
      ]
     },
     "execution_count": 163,
     "metadata": {},
     "output_type": "execute_result"
    }
   ],
   "source": [
    "model.fit(X_train_padded, y_train_balanced, validation_data=(X_test_padded, y_test), epochs=10, batch_size=64)"
   ]
  },
  {
   "cell_type": "code",
   "execution_count": 165,
   "id": "12890776",
   "metadata": {},
   "outputs": [
    {
     "name": "stdout",
     "output_type": "stream",
     "text": [
      "33/33 [==============================] - 2s 29ms/step\n",
      "              precision    recall  f1-score   support\n",
      "\n",
      "           0       0.99      0.99      0.99       909\n",
      "           1       0.96      0.91      0.93       123\n",
      "\n",
      "    accuracy                           0.98      1032\n",
      "   macro avg       0.97      0.95      0.96      1032\n",
      "weighted avg       0.98      0.98      0.98      1032\n",
      "\n"
     ]
    }
   ],
   "source": [
    "y_lstm_pred = model.predict(X_test_padded)\n",
    "y_lstm_pred = np.where(y_lstm_pred > 0.5, 1, 0)\n",
    "\n",
    "\n",
    "print(classification_report(y_teste, y_lstm_pred))"
   ]
  },
  {
   "cell_type": "markdown",
   "id": "a0b0236c",
   "metadata": {},
   "source": [
    "#### Matriz de confusão"
   ]
  },
  {
   "cell_type": "code",
   "execution_count": 174,
   "id": "c43774d0",
   "metadata": {},
   "outputs": [
    {
     "data": {
      "image/png": "[encoded data removed]",
      "text/plain": [
       "<Figure size 640x480 with 2 Axes>"
      ]
     },
     "metadata": {},
     "output_type": "display_data"
    }
   ],
   "source": [
    "#rf - y_pred\n",
    "#svc - previsao\n",
    "#y_pred_lstm= model.predict(X_test_padded)\n",
    "#classes_pred = np.argmax(y_pred_lstm, axis=1)\n",
    "\n",
    "cm_rf = confusion_matrix(y_test, y_pred)\n",
    "cm_svc = confusion_matrix(y_test, previsao)\n",
    "cm_lstm = confusion_matrix(y_teste, y_lstm_pred)\n",
    "\n",
    "#Função para calcular precisão\n",
    "def calculate_precision(cm):\n",
    "    accuracy = (cm[0][0] + cm[1][1]) / np.sum(cm)\n",
    "    precision_ham = cm[0][0] / np.sum(cm[0])\n",
    "    precision_spam = cm[1][1] / np.sum(cm[1])\n",
    "    return accuracy, precision_ham, precision_spam\n",
    "\n",
    "# Calcular precisão total e precisão por tipos para cada modelo\n",
    "accuracy_rf, precision_ham_rf, precision_spam_rf = calculate_precision(cm_rf)\n",
    "accuracy_svc, precision_ham_svc, precision_spam_svc = calculate_precision(cm_svc)\n",
    "\n",
    "#Heatmap Random Forest \n",
    "fig, ax = plt.subplots()\n",
    "sns.heatmap(cm_rf, annot=True, fmt='d', cmap='rocket', ax=ax)\n",
    "ax.set_title('Random Forest')\n",
    "ax.set_xlabel('Predicted')\n",
    "ax.set_ylabel('True')\n",
    "ax.text(0.5, -0.5, f\"Precisão Total: {accuracy_rf}\\nPrecisão Ham: {precision_ham_rf}\\nPrecisão Spam: {precision_spam_rf}\", ha='center', va='center', transform=ax.transAxes)\n",
    "\n",
    "\n",
    "plt.tight_layout()\n",
    "plt.show()"
   ]
  },
  {
   "cell_type": "code",
   "execution_count": 170,
   "id": "a4041eac",
   "metadata": {},
   "outputs": [
    {
     "data": {
      "image/png": "[encoded data removed]",
      "text/plain": [
       "<Figure size 640x480 with 2 Axes>"
      ]
     },
     "metadata": {},
     "output_type": "display_data"
    }
   ],
   "source": [
    "#Heatmap SVC\n",
    "fig, ax = plt.subplots()\n",
    "sns.heatmap(cm_svc, annot=True, fmt='d', cmap='mako', ax=ax)\n",
    "ax.set_title('SVC')\n",
    "ax.set_xlabel('Predicted')\n",
    "ax.set_ylabel('True')\n",
    "ax.text(0.5, -0.5, f\"Precisão Total: {accuracy_svc}\\nPrecisão Ham: {precision_ham_svc}\\nPrecisão Spam: {precision_spam_svc}\", ha='center', va='center', transform=ax.transAxes)\n",
    "\n",
    "plt.tight_layout()\n",
    "plt.show()"
   ]
  },
  {
   "cell_type": "code",
   "execution_count": 179,
   "id": "29d51ed2",
   "metadata": {},
   "outputs": [
    {
     "data": {
      "image/png": "[encoded data removed]",
      "text/plain": [
       "<Figure size 640x480 with 2 Axes>"
      ]
     },
     "metadata": {},
     "output_type": "display_data"
    }
   ],
   "source": [
    "# Calcular a precisão geral, precisão de ham e precisão de spam\n",
    "accuracy_lstm = accuracy_score(y_teste, y_lstm_pred)\n",
    "precision_ham_lstm = cm_lstm[0, 0] / (cm_lstm[0, 0] + cm_lstm[0, 1])\n",
    "precision_spam_lstm = cm_lstm[1, 1] / (cm_lstm[1, 0] + cm_lstm[1, 1])\n",
    "\n",
    "fig, ax = plt.subplots()\n",
    "sns.heatmap(cm_lstm, annot=True, fmt='d', cmap='magma', ax=ax)\n",
    "ax.set_title('LSTM')\n",
    "ax.set_xlabel('Predicted')\n",
    "ax.set_ylabel('True')\n",
    "ax.text(0.5, -0.5, f\"Precisão Total: {accuracy_lstm}\\nPrecisão Ham: {precision_ham_lstm}\\nPrecisão Spam: {precision_spam_lstm}\", ha='center', va='center', transform=ax.transAxes)\n",
    "\n",
    "plt.tight_layout()\n",
    "plt.show()"
   ]
  },
  {
   "cell_type": "code",
   "execution_count": null,
   "id": "fedc46fa",
   "metadata": {},
   "outputs": [],
   "source": []
  }
 ],
 "metadata": {
  "kernelspec": {
   "display_name": "Python 3 (ipykernel)",
   "language": "python",
   "name": "python3"
  },
  "language_info": {
   "codemirror_mode": {
    "name": "ipython",
    "version": 3
   },
   "file_extension": ".py",
   "mimetype": "text/x-python",
   "name": "python",
   "nbconvert_exporter": "python",
   "pygments_lexer": "ipython3",
   "version": "3.10.9"
  }
 },
 "nbformat": 4,
 "nbformat_minor": 5
}
